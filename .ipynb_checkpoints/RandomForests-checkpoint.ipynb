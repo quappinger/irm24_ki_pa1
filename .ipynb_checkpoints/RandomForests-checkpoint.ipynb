{
 "cells": [
  {
   "cell_type": "markdown",
   "metadata": {},
   "source": [
    "# Project Work - IRM24\n",
    "## Jürgen Aumayr & Natalia Trudova"
   ]
  },
  {
   "cell_type": "markdown",
   "metadata": {},
   "source": [
    "### Random Forest"
   ]
  },
  {
   "cell_type": "markdown",
   "metadata": {},
   "source": [
    "### Datenimport und Vorverarbeitung"
   ]
  },
  {
   "cell_type": "markdown",
   "metadata": {},
   "source": [
    "In dieser Zelle werden die notwendigen Bibliotheken importiert, und der Titanic-Datensatz wird eingelesen. Die Datentypen werden optimiert, um Speicherplatz zu sparen."
   ]
  },
  {
   "cell_type": "code",
   "execution_count": 2,
   "metadata": {},
   "outputs": [
    {
     "data": {
      "text/html": [
       "<div>\n",
       "<style scoped>\n",
       "    .dataframe tbody tr th:only-of-type {\n",
       "        vertical-align: middle;\n",
       "    }\n",
       "\n",
       "    .dataframe tbody tr th {\n",
       "        vertical-align: top;\n",
       "    }\n",
       "\n",
       "    .dataframe thead th {\n",
       "        text-align: right;\n",
       "    }\n",
       "</style>\n",
       "<table border=\"1\" class=\"dataframe\">\n",
       "  <thead>\n",
       "    <tr style=\"text-align: right;\">\n",
       "      <th></th>\n",
       "      <th>PassengerId</th>\n",
       "      <th>Survived</th>\n",
       "      <th>Pclass</th>\n",
       "      <th>Name</th>\n",
       "      <th>Sex</th>\n",
       "      <th>Age</th>\n",
       "      <th>SibSp</th>\n",
       "      <th>Parch</th>\n",
       "      <th>Ticket</th>\n",
       "      <th>Fare</th>\n",
       "      <th>Cabin</th>\n",
       "      <th>Embarked</th>\n",
       "    </tr>\n",
       "  </thead>\n",
       "  <tbody>\n",
       "    <tr>\n",
       "      <th>0</th>\n",
       "      <td>1</td>\n",
       "      <td>0</td>\n",
       "      <td>3</td>\n",
       "      <td>Braund, Mr. Owen Harris</td>\n",
       "      <td>male</td>\n",
       "      <td>22.0</td>\n",
       "      <td>1</td>\n",
       "      <td>0</td>\n",
       "      <td>A/5 21171</td>\n",
       "      <td>7.250000</td>\n",
       "      <td>NaN</td>\n",
       "      <td>S</td>\n",
       "    </tr>\n",
       "    <tr>\n",
       "      <th>1</th>\n",
       "      <td>2</td>\n",
       "      <td>1</td>\n",
       "      <td>1</td>\n",
       "      <td>Cumings, Mrs. John Bradley (Florence Briggs Th...</td>\n",
       "      <td>female</td>\n",
       "      <td>38.0</td>\n",
       "      <td>1</td>\n",
       "      <td>0</td>\n",
       "      <td>PC 17599</td>\n",
       "      <td>71.283302</td>\n",
       "      <td>C85</td>\n",
       "      <td>C</td>\n",
       "    </tr>\n",
       "    <tr>\n",
       "      <th>2</th>\n",
       "      <td>3</td>\n",
       "      <td>1</td>\n",
       "      <td>3</td>\n",
       "      <td>Heikkinen, Miss. Laina</td>\n",
       "      <td>female</td>\n",
       "      <td>26.0</td>\n",
       "      <td>0</td>\n",
       "      <td>0</td>\n",
       "      <td>STON/O2. 3101282</td>\n",
       "      <td>7.925000</td>\n",
       "      <td>NaN</td>\n",
       "      <td>S</td>\n",
       "    </tr>\n",
       "  </tbody>\n",
       "</table>\n",
       "</div>"
      ],
      "text/plain": [
       "   PassengerId  Survived  Pclass  \\\n",
       "0            1         0       3   \n",
       "1            2         1       1   \n",
       "2            3         1       3   \n",
       "\n",
       "                                                Name     Sex   Age  SibSp  \\\n",
       "0                            Braund, Mr. Owen Harris    male  22.0      1   \n",
       "1  Cumings, Mrs. John Bradley (Florence Briggs Th...  female  38.0      1   \n",
       "2                             Heikkinen, Miss. Laina  female  26.0      0   \n",
       "\n",
       "   Parch            Ticket       Fare Cabin Embarked  \n",
       "0      0         A/5 21171   7.250000   NaN        S  \n",
       "1      0          PC 17599  71.283302   C85        C  \n",
       "2      0  STON/O2. 3101282   7.925000   NaN        S  "
      ]
     },
     "metadata": {},
     "output_type": "display_data"
    }
   ],
   "source": [
    "# Importieren der notwendigen Bibliotheken\n",
    "import pandas as pd\n",
    "import numpy as np\n",
    "from sklearn.ensemble import RandomForestClassifier\n",
    "from sklearn.model_selection import train_test_split, GridSearchCV\n",
    "from sklearn.metrics import accuracy_score, classification_report, roc_auc_score\n",
    "\n",
    "# Optimierte Datentypen definieren, um Speicherverbrauch zu reduzieren\n",
    "dtypes = {\n",
    "    'PassengerId': 'int32',\n",
    "    'Survived': 'int8',\n",
    "    'Pclass': 'int8',\n",
    "    'Name': 'str',\n",
    "    'Sex': 'category',\n",
    "    'Age': 'float32',\n",
    "    'SibSp': 'int8',\n",
    "    'Parch': 'int8',\n",
    "    'Ticket': 'str',\n",
    "    'Fare': 'float32',\n",
    "    'Cabin': 'str',\n",
    "    'Embarked': 'category'\n",
    "}\n",
    "\n",
    "# Titanic-Daten einlesen\n",
    "train_df = pd.read_csv('data/train.csv', dtype=dtypes)\n",
    "\n",
    "# Ersten drei Zeilen des Datensatzes anzeigen\n",
    "display(train_df.head(3))"
   ]
  },
  {
   "cell_type": "markdown",
   "metadata": {},
   "source": [
    "### Feature Engineering"
   ]
  },
  {
   "cell_type": "markdown",
   "metadata": {},
   "source": [
    "Diese Funktion verarbeitet die Rohdaten und erstellt neue Features, die für das Modelltraining verwendet werden. Es werden fehlende Werte behandelt und numerische Features erstellt."
   ]
  },
  {
   "cell_type": "code",
   "execution_count": 3,
   "metadata": {},
   "outputs": [
    {
     "data": {
      "text/html": [
       "<div>\n",
       "<style scoped>\n",
       "    .dataframe tbody tr th:only-of-type {\n",
       "        vertical-align: middle;\n",
       "    }\n",
       "\n",
       "    .dataframe tbody tr th {\n",
       "        vertical-align: top;\n",
       "    }\n",
       "\n",
       "    .dataframe thead th {\n",
       "        text-align: right;\n",
       "    }\n",
       "</style>\n",
       "<table border=\"1\" class=\"dataframe\">\n",
       "  <thead>\n",
       "    <tr style=\"text-align: right;\">\n",
       "      <th></th>\n",
       "      <th>Survived</th>\n",
       "      <th>Pclass</th>\n",
       "      <th>Sex</th>\n",
       "      <th>Age</th>\n",
       "      <th>Parch</th>\n",
       "      <th>Fare</th>\n",
       "      <th>Embarked</th>\n",
       "      <th>Has_Cabin</th>\n",
       "      <th>FamilySize</th>\n",
       "      <th>IsAlone</th>\n",
       "      <th>Title</th>\n",
       "    </tr>\n",
       "  </thead>\n",
       "  <tbody>\n",
       "    <tr>\n",
       "      <th>0</th>\n",
       "      <td>0</td>\n",
       "      <td>3</td>\n",
       "      <td>1</td>\n",
       "      <td>2</td>\n",
       "      <td>0</td>\n",
       "      <td>0</td>\n",
       "      <td>0</td>\n",
       "      <td>0</td>\n",
       "      <td>2</td>\n",
       "      <td>0</td>\n",
       "      <td>1</td>\n",
       "    </tr>\n",
       "    <tr>\n",
       "      <th>1</th>\n",
       "      <td>1</td>\n",
       "      <td>1</td>\n",
       "      <td>0</td>\n",
       "      <td>2</td>\n",
       "      <td>0</td>\n",
       "      <td>3</td>\n",
       "      <td>1</td>\n",
       "      <td>1</td>\n",
       "      <td>2</td>\n",
       "      <td>0</td>\n",
       "      <td>3</td>\n",
       "    </tr>\n",
       "    <tr>\n",
       "      <th>2</th>\n",
       "      <td>1</td>\n",
       "      <td>3</td>\n",
       "      <td>0</td>\n",
       "      <td>2</td>\n",
       "      <td>0</td>\n",
       "      <td>1</td>\n",
       "      <td>0</td>\n",
       "      <td>0</td>\n",
       "      <td>1</td>\n",
       "      <td>1</td>\n",
       "      <td>4</td>\n",
       "    </tr>\n",
       "  </tbody>\n",
       "</table>\n",
       "</div>"
      ],
      "text/plain": [
       "   Survived  Pclass Sex  Age  Parch  Fare  Embarked  Has_Cabin  FamilySize  \\\n",
       "0         0       3   1    2      0     0         0          0           2   \n",
       "1         1       1   0    2      0     3         1          1           2   \n",
       "2         1       3   0    2      0     1         0          0           1   \n",
       "\n",
       "   IsAlone  Title  \n",
       "0        0      1  \n",
       "1        0      3  \n",
       "2        1      4  "
      ]
     },
     "metadata": {},
     "output_type": "display_data"
    }
   ],
   "source": [
    "def preprocess_features(df):\n",
    "    \"\"\"\n",
    "    Bereitet die Titanic-Daten für das Modelltraining vor und\n",
    "    erzeugt optimierte Features aus den Rohdaten.\n",
    "    \"\"\"\n",
    "    # Kopie erstellen, um Originaldaten nicht zu verändern\n",
    "    dataset = df.copy()\n",
    "    \n",
    "    # Geschlecht in numerisch konvertieren\n",
    "    dataset['Sex'] = dataset['Sex'].map({'female': 0, 'male': 1})\n",
    "    \n",
    "    # Fehlende Alterswerte mit Median füllen - nach Klasse und Geschlecht gruppiert\n",
    "    age_median = dataset.groupby(['Pclass', 'Sex'])['Age'].transform('median')\n",
    "    dataset['Age'] = dataset['Age'].fillna(age_median)\n",
    "\n",
    "    # NaN-Werte durch den Median ersetzen\n",
    "    dataset['Fare'] = dataset['Fare'].fillna(dataset['Fare'].median())\n",
    "    \n",
    "    # Alter in Kategorien einteilen\n",
    "    dataset['Age'] = pd.cut(\n",
    "        dataset['Age'], \n",
    "        bins=[0, 18, 60, np.inf], \n",
    "        labels=[1, 2, 3]\n",
    "    ).astype('int8')\n",
    "    \n",
    "    # Fahrpreise in Quartile einteilen für bessere Vergleichbarkeit\n",
    "    dataset['Fare'] = pd.qcut(\n",
    "        dataset['Fare'], \n",
    "        q=4, \n",
    "        labels=[0, 1, 2, 3],\n",
    "        duplicates='drop'  # Verhindert Fehler bei doppelten Grenzwerten\n",
    "    ).astype('int8')\n",
    "    \n",
    "    # Einschiffungshafen in numerische Werte umwandeln\n",
    "    dataset['Embarked'] = dataset['Embarked'].fillna(dataset['Embarked'].mode()[0])\n",
    "    dataset['Embarked'] = dataset['Embarked'].map({'S': 0, 'C': 1, 'Q': 2}).astype('int8')\n",
    "    \n",
    "    # Binäres Merkmal: Hat der Passagier eine Kabinennummer oder nicht?\n",
    "    dataset['Has_Cabin'] = (dataset['Cabin'].notna()).astype('int8')\n",
    "    \n",
    "    # Berechnung der Familiengröße und Alleinreisenden-Status\n",
    "    dataset['FamilySize'] = (dataset['SibSp'] + dataset['Parch'] + 1).astype('int8')\n",
    "    dataset['IsAlone'] = (dataset['FamilySize'] == 1).astype('int8')\n",
    "    \n",
    "    # Titel aus Namen extrahieren mit regulärem Ausdruck - effizienter als Split\n",
    "    dataset['Title'] = dataset['Name'].str.extract(' ([A-Za-z]+)\\.', expand=False)\n",
    "    \n",
    "    # Titel-Mapping für Kategorisierung\n",
    "    title_mapping = {\n",
    "        \"Mr\": 1, \"Master\": 2, \"Mrs\": 3, \"Miss\": 4, \"Rare\": 5\n",
    "    }\n",
    "    \n",
    "    # Seltenere Titel zusammenfassen, um Overfitting zu vermeiden\n",
    "    rare_titles = ['Lady', 'Countess', 'Capt', 'Col', 'Don', 'Dr', \n",
    "                   'Major', 'Rev', 'Sir', 'Jonkheer', 'Mlle', 'Mme', 'Ms']\n",
    "    dataset['Title'] = dataset['Title'].replace(rare_titles, 'Rare')\n",
    "    dataset['Title'] = dataset['Title'].map(title_mapping).fillna(5).astype('int8')\n",
    "    \n",
    "    return dataset\n",
    "\n",
    "# Daten vorverarbeiten und relevante Features auswählen\n",
    "processed_df = preprocess_features(train_df)\n",
    "features_df = processed_df[['Survived', 'Pclass', 'Sex', 'Age', 'Parch', \n",
    "                            'Fare', 'Embarked', 'Has_Cabin', 'FamilySize', \n",
    "                            'IsAlone', 'Title']]\n",
    "\n",
    "# Vorverarbeitete Features anzeigen\n",
    "display(features_df.head(3))"
   ]
  },
  {
   "cell_type": "markdown",
   "metadata": {},
   "source": [
    "### Datenaufteilung"
   ]
  },
  {
   "cell_type": "code",
   "execution_count": 4,
   "metadata": {},
   "outputs": [],
   "source": [
    "# Features und Zielvariable trennen\n",
    "X = features_df.drop('Survived', axis=1)\n",
    "y = features_df['Survived']\n",
    "\n",
    "# Daten aufteilen: Trainings- und Validierungsset (80% Training / 20% Test)\n",
    "X_train, X_val, y_train, y_val = train_test_split(\n",
    "    X, y,\n",
    "    test_size=0.2,\n",
    "    random_state=42,\n",
    "    stratify=y\n",
    ")"
   ]
  },
  {
   "cell_type": "markdown",
   "metadata": {},
   "source": [
    "### Modelltraining mit Random Forest"
   ]
  },
  {
   "cell_type": "markdown",
   "metadata": {},
   "source": [
    "Hier wird ein Random Forest-Modell trainiert. Die Hyperparameter werden mit GridSearchCV optimiert."
   ]
  },
  {
   "cell_type": "code",
   "execution_count": 6,
   "metadata": {},
   "outputs": [
    {
     "name": "stdout",
     "output_type": "stream",
     "text": [
      "Beste Parameter: {'max_depth': 4, 'min_samples_leaf': 2, 'min_samples_split': 2, 'n_estimators': 200}\n"
     ]
    }
   ],
   "source": [
    "# Hyperparameter-Grid für Random Forest\n",
    "param_grid = {\n",
    "    \"n_estimators\": [100, 200],\n",
    "    \"max_depth\": [4, 6],\n",
    "    \"min_samples_split\": [2, 5],\n",
    "    \"min_samples_leaf\": [1, 2],\n",
    "}\n",
    "\n",
    "# GridSearchCV für Hyperparameter-Tuning verwenden\n",
    "grid_search_rf = GridSearchCV(\n",
    "    RandomForestClassifier(random_state=42),\n",
    "    param_grid,\n",
    "    cv=5,\n",
    "    n_jobs=-1,\n",
    ")\n",
    "\n",
    "# Modell trainieren\n",
    "grid_search_rf.fit(X_train, y_train)\n",
    "\n",
    "# Beste Parameter anzeigen\n",
    "print(f\"Beste Parameter: {grid_search_rf.best_params_}\")"
   ]
  },
  {
   "cell_type": "markdown",
   "metadata": {},
   "source": [
    "### Evaluierung des Modells"
   ]
  },
  {
   "cell_type": "markdown",
   "metadata": {},
   "source": [
    "Das optimierte Modell wird auf dem Validierungsset getestet. Die Accuracy sowie ein Klassifikationsbericht werden ausgegeben."
   ]
  },
  {
   "cell_type": "code",
   "execution_count": 8,
   "metadata": {},
   "outputs": [
    {
     "name": "stdout",
     "output_type": "stream",
     "text": [
      "Validierungsgenauigkeit: 0.7989\n",
      "Klassifikationsbericht:\n",
      "              precision    recall  f1-score   support\n",
      "\n",
      "           0       0.81      0.87      0.84       110\n",
      "           1       0.77      0.68      0.72        69\n",
      "\n",
      "    accuracy                           0.80       179\n",
      "   macro avg       0.79      0.78      0.78       179\n",
      "weighted avg       0.80      0.80      0.80       179\n",
      "\n"
     ]
    }
   ],
   "source": [
    "# Bestes Modell auswählen und Vorhersagen treffen\n",
    "best_rf_model = grid_search_rf.best_estimator_\n",
    "val_predictions = best_rf_model.predict(X_val)\n",
    "\n",
    "# Genauigkeit berechnen\n",
    "val_accuracy = accuracy_score(y_val, val_predictions)\n",
    "print(f\"Validierungsgenauigkeit: {val_accuracy:.4f}\")\n",
    "\n",
    "# Klassifikationsbericht ausgeben\n",
    "print(\"Klassifikationsbericht:\")\n",
    "print(classification_report(y_val, val_predictions))"
   ]
  },
  {
   "cell_type": "markdown",
   "metadata": {},
   "source": [
    "### Feature-Wichtigkeit analysieren"
   ]
  },
  {
   "cell_type": "markdown",
   "metadata": {},
   "source": [
    "Die Wichtigkeit der Features im Random Forest wird visualisiert."
   ]
  },
  {
   "cell_type": "code",
   "execution_count": 9,
   "metadata": {},
   "outputs": [
    {
     "data": {
      "image/png": "[encoded data removed]",
      "text/plain": [
       "<Figure size 1000x600 with 1 Axes>"
      ]
     },
     "metadata": {},
     "output_type": "display_data"
    }
   ],
   "source": [
    "import matplotlib.pyplot as plt\n",
    "\n",
    "feature_importance = pd.DataFrame({\n",
    "    \"Feature\": X.columns,\n",
    "    \"Importance\": best_rf_model.feature_importances_\n",
    "}).sort_values(\"Importance\", ascending=False)\n",
    "\n",
    "plt.figure(figsize=(10, 6))\n",
    "plt.barh(feature_importance[\"Feature\"], feature_importance[\"Importance\"])\n",
    "plt.xlabel(\"Wichtigkeit\")\n",
    "plt.ylabel(\"Feature\")\n",
    "plt.title(\"Feature-Wichtigkeit im Random Forest\")\n",
    "plt.tight_layout()\n",
    "plt.show()"
   ]
  },
  {
   "cell_type": "markdown",
   "metadata": {},
   "source": [
    "### Vorhersagen für Testdaten"
   ]
  },
  {
   "cell_type": "markdown",
   "metadata": {},
   "source": [
    "Die Testdaten werden vorverarbeitet und die Vorhersagen des Modells exportiert."
   ]
  },
  {
   "cell_type": "code",
   "execution_count": 14,
   "metadata": {},
   "outputs": [
    {
     "data": {
      "text/html": [
       "<div>\n",
       "<style scoped>\n",
       "    .dataframe tbody tr th:only-of-type {\n",
       "        vertical-align: middle;\n",
       "    }\n",
       "\n",
       "    .dataframe tbody tr th {\n",
       "        vertical-align: top;\n",
       "    }\n",
       "\n",
       "    .dataframe thead th {\n",
       "        text-align: right;\n",
       "    }\n",
       "</style>\n",
       "<table border=\"1\" class=\"dataframe\">\n",
       "  <thead>\n",
       "    <tr style=\"text-align: right;\">\n",
       "      <th></th>\n",
       "      <th>PassengerId</th>\n",
       "      <th>Name</th>\n",
       "      <th>Sex</th>\n",
       "      <th>Survived</th>\n",
       "    </tr>\n",
       "  </thead>\n",
       "  <tbody>\n",
       "    <tr>\n",
       "      <th>0</th>\n",
       "      <td>892</td>\n",
       "      <td>Kelly, Mr. James</td>\n",
       "      <td>male</td>\n",
       "      <td>0</td>\n",
       "    </tr>\n",
       "    <tr>\n",
       "      <th>1</th>\n",
       "      <td>893</td>\n",
       "      <td>Wilkes, Mrs. James (Ellen Needs)</td>\n",
       "      <td>female</td>\n",
       "      <td>1</td>\n",
       "    </tr>\n",
       "    <tr>\n",
       "      <th>2</th>\n",
       "      <td>894</td>\n",
       "      <td>Myles, Mr. Thomas Francis</td>\n",
       "      <td>male</td>\n",
       "      <td>0</td>\n",
       "    </tr>\n",
       "    <tr>\n",
       "      <th>3</th>\n",
       "      <td>895</td>\n",
       "      <td>Wirz, Mr. Albert</td>\n",
       "      <td>male</td>\n",
       "      <td>0</td>\n",
       "    </tr>\n",
       "    <tr>\n",
       "      <th>4</th>\n",
       "      <td>896</td>\n",
       "      <td>Hirvonen, Mrs. Alexander (Helga E Lindqvist)</td>\n",
       "      <td>female</td>\n",
       "      <td>1</td>\n",
       "    </tr>\n",
       "    <tr>\n",
       "      <th>5</th>\n",
       "      <td>897</td>\n",
       "      <td>Svensson, Mr. Johan Cervin</td>\n",
       "      <td>male</td>\n",
       "      <td>0</td>\n",
       "    </tr>\n",
       "    <tr>\n",
       "      <th>6</th>\n",
       "      <td>898</td>\n",
       "      <td>Connolly, Miss. Kate</td>\n",
       "      <td>female</td>\n",
       "      <td>1</td>\n",
       "    </tr>\n",
       "    <tr>\n",
       "      <th>7</th>\n",
       "      <td>899</td>\n",
       "      <td>Caldwell, Mr. Albert Francis</td>\n",
       "      <td>male</td>\n",
       "      <td>0</td>\n",
       "    </tr>\n",
       "    <tr>\n",
       "      <th>8</th>\n",
       "      <td>900</td>\n",
       "      <td>Abrahim, Mrs. Joseph (Sophie Halaut Easu)</td>\n",
       "      <td>female</td>\n",
       "      <td>1</td>\n",
       "    </tr>\n",
       "    <tr>\n",
       "      <th>9</th>\n",
       "      <td>901</td>\n",
       "      <td>Davies, Mr. John Samuel</td>\n",
       "      <td>male</td>\n",
       "      <td>0</td>\n",
       "    </tr>\n",
       "  </tbody>\n",
       "</table>\n",
       "</div>"
      ],
      "text/plain": [
       "   PassengerId                                          Name     Sex  Survived\n",
       "0          892                              Kelly, Mr. James    male         0\n",
       "1          893              Wilkes, Mrs. James (Ellen Needs)  female         1\n",
       "2          894                     Myles, Mr. Thomas Francis    male         0\n",
       "3          895                              Wirz, Mr. Albert    male         0\n",
       "4          896  Hirvonen, Mrs. Alexander (Helga E Lindqvist)  female         1\n",
       "5          897                    Svensson, Mr. Johan Cervin    male         0\n",
       "6          898                          Connolly, Miss. Kate  female         1\n",
       "7          899                  Caldwell, Mr. Albert Francis    male         0\n",
       "8          900     Abrahim, Mrs. Joseph (Sophie Halaut Easu)  female         1\n",
       "9          901                       Davies, Mr. John Samuel    male         0"
      ]
     },
     "metadata": {},
     "output_type": "display_data"
    },
    {
     "data": {
      "image/png": "[encoded data removed]",
      "text/plain": [
       "<Figure size 640x480 with 1 Axes>"
      ]
     },
     "metadata": {},
     "output_type": "display_data"
    }
   ],
   "source": [
    "# Test-Daten laden und vorverarbeiten\n",
    "test_df = pd.read_csv(\"data/test.csv\", dtype=dtypes)\n",
    "test_processed = preprocess_features(test_df)\n",
    "\n",
    "# Relevante Features auswählen\n",
    "X_test = test_processed[X.columns]\n",
    "\n",
    "# Vorhersagen mit dem optimierten Modell\n",
    "test_predictions = best_rf_model.predict(X_test)\n",
    "\n",
    "# Ergebnisse für den Export vorbereiten\n",
    "submission = pd.DataFrame({\n",
    "    \"PassengerId\": test_df[\"PassengerId\"],\n",
    "     'Name': test_df['Name'],\n",
    "    'Sex': test_df['Sex'],\n",
    "    \"Survived\": test_predictions,\n",
    "})\n",
    "\n",
    "# Optimierte CSV-Speicherung ohne Indexspalte und mit effizienter Kompression\n",
    "submission.to_csv(\"submission_rf.csv\", index=False, encoding='utf-8')\n",
    "\n",
    "# Anzeigen der ersten Datensätze der Vorhersage\n",
    "display(submission.head(10))\n",
    "\n",
    "# Erstelle Pie Chart zur Visualiserung der Vorhersage\n",
    "survivors = submission['Survived'].value_counts().to_dict()\n",
    "piechart = np.array([survivors.get(0), survivors.get(1)])\n",
    "survlabels = [\"Nicht überlebt\", \"Überlebt\"]\n",
    "survcolors = [\"grey\", \"#4CAF50\"]\n",
    "plt.title(f\"Zusammenfassung der Vorhersagen: {submission['Survived'].value_counts().to_dict()}\")\n",
    "plt.pie(piechart, labels = survlabels, colors = survcolors, autopct='%1.1f%%')\n",
    "plt.show() "
   ]
  },
  {
   "cell_type": "code",
   "execution_count": null,
   "metadata": {},
   "outputs": [],
   "source": []
  }
 ],
 "metadata": {
  "kernelspec": {
   "display_name": "Python 3 (ipykernel)",
   "language": "python",
   "name": "python3"
  },
  "language_info": {
   "codemirror_mode": {
    "name": "ipython",
    "version": 3
   },
   "file_extension": ".py",
   "mimetype": "text/x-python",
   "name": "python",
   "nbconvert_exporter": "python",
   "pygments_lexer": "ipython3",
   "version": "3.9.0"
  }
 },
 "nbformat": 4,
 "nbformat_minor": 4
}
