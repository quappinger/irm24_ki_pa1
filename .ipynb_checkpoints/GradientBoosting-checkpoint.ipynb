{
 "cells": [
  {
   "cell_type": "markdown",
   "metadata": {},
   "source": [
    "# Project Work - IRM24\n",
    "## Jürgen Aumayr & Natalia Trudova"
   ]
  },
  {
   "cell_type": "markdown",
   "metadata": {},
   "source": [
    "## Gradient Boosting"
   ]
  },
  {
   "cell_type": "markdown",
   "metadata": {},
   "source": [
    "### Das Titanic Datenset\n",
    "\n",
    "Das Titanic-Datenset ist ein bekanntes und häufig genutztes Beispiele im Bereich des maschinellen Lernens. Es enthält Informationen über Passagiere der Titanic und wird typischerweise verwendet, um Vorhersagemodelle zu trainieren, die auf Basis bestimmter Merkmale die Überlebenswahrscheinlichkeit eines Passagiers schätzen.\n",
    "\n",
    "Das Titanic-Datenset besteht aus zwei Hauptteilen:\n",
    "\n",
    "* Trainingsdatensatz (train.csv): Enthält sowohl die Merkmale der Passagiere als auch die Zielvariable, also ob der Passagier überlebt hat (Survived).\n",
    "* Testdatensatz (test.csv): Enthält nur die Merkmale, nicht aber das Überleben, und wird genutzt, um die Vorhersagekraft eines Modells zu testen.\n",
    "\n",
    "#### Wichtige Merkmale (Features)\n",
    "* PassengerId: Eindeutige Kennnummer jedes Passagiers\n",
    "* Survived: Zielvariable, 1 = überlebt, 0 = nicht überlebt (nur im Trainingsdatensatz)\n",
    "* Pclass: Ticketklasse (1 = 1. Klasse, 2 = 2. Klasse, 3 = 3. Klasse)\n",
    "* Name: Name des Passagiers\n",
    "* Sex: Geschlecht\n",
    "* Age: Alter\n",
    "* SibSp: Anzahl Geschwister/Ehepartner an Bord\n",
    "* Parch: Anzahl Eltern/Kinder an Bord\n",
    "* Ticket: Ticketnummer\n",
    "* Fare: Ticketpreis\n",
    "* Cabin: Kabinennummer (oft unvollständig)\n",
    "* Embarked: Einschiffungshafen (C = Cherbourg, Q = Queenstown, S = Southampton)"
   ]
  },
  {
   "cell_type": "markdown",
   "metadata": {},
   "source": [
    "Der erste Codeblock ist für den Import der notwendigen Bibliotheken und das Laden der Daten zuständig."
   ]
  },
  {
   "cell_type": "code",
   "execution_count": 3,
   "metadata": {},
   "outputs": [
    {
     "data": {
      "text/html": [
       "<div>\n",
       "<style scoped>\n",
       "    .dataframe tbody tr th:only-of-type {\n",
       "        vertical-align: middle;\n",
       "    }\n",
       "\n",
       "    .dataframe tbody tr th {\n",
       "        vertical-align: top;\n",
       "    }\n",
       "\n",
       "    .dataframe thead th {\n",
       "        text-align: right;\n",
       "    }\n",
       "</style>\n",
       "<table border=\"1\" class=\"dataframe\">\n",
       "  <thead>\n",
       "    <tr style=\"text-align: right;\">\n",
       "      <th></th>\n",
       "      <th>PassengerId</th>\n",
       "      <th>Survived</th>\n",
       "      <th>Pclass</th>\n",
       "      <th>Name</th>\n",
       "      <th>Sex</th>\n",
       "      <th>Age</th>\n",
       "      <th>SibSp</th>\n",
       "      <th>Parch</th>\n",
       "      <th>Ticket</th>\n",
       "      <th>Fare</th>\n",
       "      <th>Cabin</th>\n",
       "      <th>Embarked</th>\n",
       "    </tr>\n",
       "  </thead>\n",
       "  <tbody>\n",
       "    <tr>\n",
       "      <th>0</th>\n",
       "      <td>1</td>\n",
       "      <td>0</td>\n",
       "      <td>3</td>\n",
       "      <td>Braund, Mr. Owen Harris</td>\n",
       "      <td>male</td>\n",
       "      <td>22.0</td>\n",
       "      <td>1</td>\n",
       "      <td>0</td>\n",
       "      <td>A/5 21171</td>\n",
       "      <td>7.250000</td>\n",
       "      <td>NaN</td>\n",
       "      <td>S</td>\n",
       "    </tr>\n",
       "    <tr>\n",
       "      <th>1</th>\n",
       "      <td>2</td>\n",
       "      <td>1</td>\n",
       "      <td>1</td>\n",
       "      <td>Cumings, Mrs. John Bradley (Florence Briggs Th...</td>\n",
       "      <td>female</td>\n",
       "      <td>38.0</td>\n",
       "      <td>1</td>\n",
       "      <td>0</td>\n",
       "      <td>PC 17599</td>\n",
       "      <td>71.283302</td>\n",
       "      <td>C85</td>\n",
       "      <td>C</td>\n",
       "    </tr>\n",
       "    <tr>\n",
       "      <th>2</th>\n",
       "      <td>3</td>\n",
       "      <td>1</td>\n",
       "      <td>3</td>\n",
       "      <td>Heikkinen, Miss. Laina</td>\n",
       "      <td>female</td>\n",
       "      <td>26.0</td>\n",
       "      <td>0</td>\n",
       "      <td>0</td>\n",
       "      <td>STON/O2. 3101282</td>\n",
       "      <td>7.925000</td>\n",
       "      <td>NaN</td>\n",
       "      <td>S</td>\n",
       "    </tr>\n",
       "  </tbody>\n",
       "</table>\n",
       "</div>"
      ],
      "text/plain": [
       "   PassengerId  Survived  Pclass  \\\n",
       "0            1         0       3   \n",
       "1            2         1       1   \n",
       "2            3         1       3   \n",
       "\n",
       "                                                Name     Sex   Age  SibSp  \\\n",
       "0                            Braund, Mr. Owen Harris    male  22.0      1   \n",
       "1  Cumings, Mrs. John Bradley (Florence Briggs Th...  female  38.0      1   \n",
       "2                             Heikkinen, Miss. Laina  female  26.0      0   \n",
       "\n",
       "   Parch            Ticket       Fare Cabin Embarked  \n",
       "0      0         A/5 21171   7.250000   NaN        S  \n",
       "1      0          PC 17599  71.283302   C85        C  \n",
       "2      0  STON/O2. 3101282   7.925000   NaN        S  "
      ]
     },
     "metadata": {},
     "output_type": "display_data"
    }
   ],
   "source": [
    "# Notwendige Bibliotheken importieren \n",
    "import pandas as pd\n",
    "import numpy as np\n",
    "import matplotlib.pyplot as plt\n",
    "from sklearn.ensemble import GradientBoostingClassifier\n",
    "from sklearn.model_selection import train_test_split, GridSearchCV\n",
    "from sklearn.metrics import accuracy_score, classification_report\n",
    "from sklearn.tree import plot_tree\n",
    "\n",
    "# Optimierte Datentypen definieren\n",
    "dtypes = {\n",
    "    'PassengerId': 'int32',  # 32-bit Integer für IDs ist ausreichend\n",
    "    'Survived': 'int8',      # 8-bit Integer für binäre Werte (0/1)\n",
    "    'Pclass': 'int8',        # 8-bit Integer für kleine Kategorien (1-3)\n",
    "    'Name': 'str',           # String für Namen\n",
    "    'Sex': 'category',       # Kategorie-Typ für höhere Effizienz bei wiederholten Werten\n",
    "    'Age': 'float32',        # 32-bit Float statt Standard 64-bit\n",
    "    'SibSp': 'int8',         # 8-bit Integer für kleine Zahlen\n",
    "    'Parch': 'int8',         # 8-bit Integer für kleine Zahlen\n",
    "    'Ticket': 'str',         # String für Ticketnummern\n",
    "    'Fare': 'float32',       # 32-bit Float für Fahrpreise\n",
    "    'Cabin': 'str',          # String für Kabinennummern\n",
    "    'Embarked': 'category'   # Kategorie-Typ für Einschiffungshäfen (S, C, Q)\n",
    "}\n",
    "\n",
    "# Daten mit optimierten Datentypen einlesen \n",
    "train_df = pd.read_csv('data/train.csv', dtype=dtypes)\n",
    "\n",
    "# Ersten drei Zeilen der Originaldaten zur Übersicht anzeigen\n",
    "display(train_df.head(3))"
   ]
  },
  {
   "cell_type": "markdown",
   "metadata": {},
   "source": [
    "### Feature Engineering"
   ]
  },
  {
   "cell_type": "markdown",
   "metadata": {},
   "source": [
    "Hier werden neue Features erstellt und bestehende transformiert:\n",
    "\n",
    "* 'Sex' wird in numerische Werte umgewandelt (0 für weiblich, 1 für männlich).\n",
    "* 'Age' wird in Kategorien eingeteilt (1: 0-18, 2: 19-60, 3: 61+).\n",
    "* 'Fare' wird in Quartile eingeteilt (0-3).\n",
    "* 'Embarked' wird in numerische Werte umgewandelt.\n",
    "* 'Has_Cabin' wird als binäres Feature erstellt.\n",
    "* 'FamilySize' und 'IsAlone' werden aus 'SibSp' und 'Parch' berechnet.\n",
    "* 'Title' wird aus dem 'Name' extrahiert und kategorisiert."
   ]
  },
  {
   "cell_type": "code",
   "execution_count": 4,
   "metadata": {},
   "outputs": [
    {
     "data": {
      "text/html": [
       "<div>\n",
       "<style scoped>\n",
       "    .dataframe tbody tr th:only-of-type {\n",
       "        vertical-align: middle;\n",
       "    }\n",
       "\n",
       "    .dataframe tbody tr th {\n",
       "        vertical-align: top;\n",
       "    }\n",
       "\n",
       "    .dataframe thead th {\n",
       "        text-align: right;\n",
       "    }\n",
       "</style>\n",
       "<table border=\"1\" class=\"dataframe\">\n",
       "  <thead>\n",
       "    <tr style=\"text-align: right;\">\n",
       "      <th></th>\n",
       "      <th>Survived</th>\n",
       "      <th>Pclass</th>\n",
       "      <th>Sex</th>\n",
       "      <th>Age</th>\n",
       "      <th>Parch</th>\n",
       "      <th>Fare</th>\n",
       "      <th>Embarked</th>\n",
       "      <th>Has_Cabin</th>\n",
       "      <th>FamilySize</th>\n",
       "      <th>IsAlone</th>\n",
       "      <th>Title</th>\n",
       "    </tr>\n",
       "  </thead>\n",
       "  <tbody>\n",
       "    <tr>\n",
       "      <th>0</th>\n",
       "      <td>0</td>\n",
       "      <td>3</td>\n",
       "      <td>1</td>\n",
       "      <td>2</td>\n",
       "      <td>0</td>\n",
       "      <td>0</td>\n",
       "      <td>0</td>\n",
       "      <td>0</td>\n",
       "      <td>2</td>\n",
       "      <td>0</td>\n",
       "      <td>1</td>\n",
       "    </tr>\n",
       "    <tr>\n",
       "      <th>1</th>\n",
       "      <td>1</td>\n",
       "      <td>1</td>\n",
       "      <td>0</td>\n",
       "      <td>2</td>\n",
       "      <td>0</td>\n",
       "      <td>3</td>\n",
       "      <td>1</td>\n",
       "      <td>1</td>\n",
       "      <td>2</td>\n",
       "      <td>0</td>\n",
       "      <td>3</td>\n",
       "    </tr>\n",
       "    <tr>\n",
       "      <th>2</th>\n",
       "      <td>1</td>\n",
       "      <td>3</td>\n",
       "      <td>0</td>\n",
       "      <td>2</td>\n",
       "      <td>0</td>\n",
       "      <td>1</td>\n",
       "      <td>0</td>\n",
       "      <td>0</td>\n",
       "      <td>1</td>\n",
       "      <td>1</td>\n",
       "      <td>4</td>\n",
       "    </tr>\n",
       "  </tbody>\n",
       "</table>\n",
       "</div>"
      ],
      "text/plain": [
       "   Survived  Pclass Sex  Age  Parch  Fare  Embarked  Has_Cabin  FamilySize  \\\n",
       "0         0       3   1    2      0     0         0          0           2   \n",
       "1         1       1   0    2      0     3         1          1           2   \n",
       "2         1       3   0    2      0     1         0          0           1   \n",
       "\n",
       "   IsAlone  Title  \n",
       "0        0      1  \n",
       "1        0      3  \n",
       "2        1      4  "
      ]
     },
     "metadata": {},
     "output_type": "display_data"
    }
   ],
   "source": [
    "def preprocess_features(df):\n",
    "    \"\"\"\n",
    "    Bereitet die Titanic-Daten für das Modelltraining vor und\n",
    "    erzeugt optimierte Features aus den Rohdaten.\n",
    "    \"\"\"\n",
    "    # Kopie erstellen, um Originaldaten nicht zu verändern\n",
    "    dataset = df.copy()\n",
    "    \n",
    "    # Geschlecht in numerisch konvertieren\n",
    "    dataset['Sex'] = dataset['Sex'].map({'female': 0, 'male': 1})\n",
    "    \n",
    "    # Fehlende Alterswerte mit Median füllen - nach Klasse und Geschlecht gruppiert\n",
    "    age_median = dataset.groupby(['Pclass', 'Sex'])['Age'].transform('median')\n",
    "    dataset['Age'] = dataset['Age'].fillna(age_median)\n",
    "\n",
    "    # NaN-Werte durch den Median ersetzen\n",
    "    dataset['Fare'] = dataset['Fare'].fillna(dataset['Fare'].median())\n",
    "    \n",
    "    # Alter in Kategorien einteilen\n",
    "    dataset['Age'] = pd.cut(\n",
    "        dataset['Age'], \n",
    "        bins=[0, 18, 60, np.inf], \n",
    "        labels=[1, 2, 3]\n",
    "    ).astype('int8')\n",
    "    \n",
    "    # Fahrpreise in Quartile einteilen für bessere Vergleichbarkeit\n",
    "    dataset['Fare'] = pd.qcut(\n",
    "        dataset['Fare'], \n",
    "        q=4, \n",
    "        labels=[0, 1, 2, 3],\n",
    "        duplicates='drop'  # Verhindert Fehler bei doppelten Grenzwerten\n",
    "    ).astype('int8')\n",
    "    \n",
    "    # Einschiffungshafen in numerische Werte umwandeln\n",
    "    dataset['Embarked'] = dataset['Embarked'].fillna(dataset['Embarked'].mode()[0])\n",
    "    dataset['Embarked'] = dataset['Embarked'].map({'S': 0, 'C': 1, 'Q': 2}).astype('int8')\n",
    "    \n",
    "    # Binäres Merkmal: Hat der Passagier eine Kabinennummer oder nicht?\n",
    "    dataset['Has_Cabin'] = (dataset['Cabin'].notna()).astype('int8')\n",
    "    \n",
    "    # Berechnung der Familiengröße und Alleinreisenden-Status\n",
    "    dataset['FamilySize'] = (dataset['SibSp'] + dataset['Parch'] + 1).astype('int8')\n",
    "    dataset['IsAlone'] = (dataset['FamilySize'] == 1).astype('int8')\n",
    "    \n",
    "    # Titel aus Namen extrahieren mit regulärem Ausdruck - effizienter als Split\n",
    "    dataset['Title'] = dataset['Name'].str.extract(' ([A-Za-z]+)\\.', expand=False)\n",
    "    \n",
    "    # Titel-Mapping für Kategorisierung\n",
    "    title_mapping = {\n",
    "        \"Mr\": 1, \"Master\": 2, \"Mrs\": 3, \"Miss\": 4, \"Rare\": 5\n",
    "    }\n",
    "    \n",
    "    # Seltenere Titel zusammenfassen, um Overfitting zu vermeiden\n",
    "    rare_titles = ['Lady', 'Countess', 'Capt', 'Col', 'Don', 'Dr', \n",
    "                   'Major', 'Rev', 'Sir', 'Jonkheer', 'Mlle', 'Mme', 'Ms']\n",
    "    dataset['Title'] = dataset['Title'].replace(rare_titles, 'Rare')\n",
    "    dataset['Title'] = dataset['Title'].map(title_mapping).fillna(5).astype('int8')\n",
    "    \n",
    "    return dataset\n",
    "\n",
    "# Daten vorverarbeiten und relevante Features auswählen\n",
    "processed_df = preprocess_features(train_df)\n",
    "features_df = processed_df[['Survived', 'Pclass', 'Sex', 'Age', 'Parch', \n",
    "                            'Fare', 'Embarked', 'Has_Cabin', 'FamilySize', \n",
    "                            'IsAlone', 'Title']]\n",
    "\n",
    "# Vorverarbeitete Features anzeigen\n",
    "display(features_df.head(3))"
   ]
  },
  {
   "cell_type": "markdown",
   "metadata": {},
   "source": [
    "### Datenaufteilung"
   ]
  },
  {
   "cell_type": "code",
   "execution_count": 5,
   "metadata": {},
   "outputs": [],
   "source": [
    "# Features und Zielvariable trennen\n",
    "X = features_df.drop('Survived', axis=1)\n",
    "y = features_df['Survived']\n",
    "\n",
    "# Daten aufteilen: Trainings- und Validierungsset (80% Training / 20% Test)\n",
    "X_train, X_val, y_train, y_val = train_test_split(\n",
    "    X, y,\n",
    "    test_size=0.2,\n",
    "    random_state=42,\n",
    "    stratify=y\n",
    ")"
   ]
  },
  {
   "cell_type": "markdown",
   "metadata": {},
   "source": [
    "### Hyperparameter-Optimierung"
   ]
  },
  {
   "cell_type": "markdown",
   "metadata": {},
   "source": [
    "Die Parameterauswahl berücksichtigt typische Optimierungsbereiche für Gradient Boosting. Subsample und validation_fraction aktivieren stochastisches Boosting und Early Stopping zur Überanpassungsvermeidung."
   ]
  },
  {
   "cell_type": "code",
   "execution_count": 6,
   "metadata": {},
   "outputs": [
    {
     "data": {
      "text/plain": [
       "GridSearchCV(cv=5,\n",
       "             estimator=GradientBoostingClassifier(n_iter_no_change=5,\n",
       "                                                  random_state=42,\n",
       "                                                  subsample=0.8,\n",
       "                                                  validation_fraction=0.2),\n",
       "             n_jobs=-1,\n",
       "             param_grid={'learning_rate': [0.05, 0.1], 'max_depth': [3, 5],\n",
       "                         'min_samples_split': [10, 20],\n",
       "                         'n_estimators': [100, 200]},\n",
       "             scoring='accuracy')"
      ]
     },
     "execution_count": 6,
     "metadata": {},
     "output_type": "execute_result"
    }
   ],
   "source": [
    "# Gradient Boosting Parameter-Space\n",
    "gb_params = {\n",
    "    'learning_rate': [0.05, 0.1],\n",
    "    'n_estimators': [100, 200],\n",
    "    'max_depth': [3, 5],\n",
    "    'min_samples_split': [10, 20]\n",
    "}\n",
    "\n",
    "# Grid Search mit Early Stopping\n",
    "gb_search = GridSearchCV(\n",
    "    GradientBoostingClassifier(\n",
    "        subsample=0.8,\n",
    "        validation_fraction=0.2,\n",
    "        n_iter_no_change=5,\n",
    "        random_state=42\n",
    "    ),\n",
    "    param_grid=gb_params,\n",
    "    scoring='accuracy',\n",
    "    cv=5,\n",
    "    n_jobs=-1\n",
    ")\n",
    "\n",
    "gb_search.fit(X_train, y_train)"
   ]
  },
  {
   "cell_type": "markdown",
   "metadata": {},
   "source": [
    "### Modellbewertung"
   ]
  },
  {
   "cell_type": "markdown",
   "metadata": {},
   "source": [
    "Die Ausgabe zeigt neben der Genauigkeit detaillierte Klassenmetriken. Die classification_report-Funktion liefert Precision, Recall und F1-Score für beide Klassen."
   ]
  },
  {
   "cell_type": "code",
   "execution_count": 7,
   "metadata": {},
   "outputs": [
    {
     "name": "stdout",
     "output_type": "stream",
     "text": [
      "Beste Parameter: {'learning_rate': 0.05, 'max_depth': 3, 'min_samples_split': 20, 'n_estimators': 100}\n",
      "Validierungsgenauigkeit: 0.8101\n",
      "              precision    recall  f1-score   support\n",
      "\n",
      "   Gestorben       0.81      0.91      0.85       110\n",
      "    Überlebt       0.82      0.65      0.73        69\n",
      "\n",
      "    accuracy                           0.81       179\n",
      "   macro avg       0.81      0.78      0.79       179\n",
      "weighted avg       0.81      0.81      0.81       179\n",
      "\n"
     ]
    }
   ],
   "source": [
    "best_gb = gb_search.best_estimator_\n",
    "val_preds = best_gb.predict(X_val)\n",
    "\n",
    "print(f\"Beste Parameter: {gb_search.best_params_}\")\n",
    "print(f\"Validierungsgenauigkeit: {accuracy_score(y_val, val_preds):.4f}\")\n",
    "print(classification_report(y_val, val_preds, target_names=['Gestorben', 'Überlebt']))"
   ]
  },
  {
   "cell_type": "markdown",
   "metadata": {},
   "source": [
    "### Feature-Wichtigkeit"
   ]
  },
  {
   "cell_type": "markdown",
   "metadata": {},
   "source": [
    "Die horizontale Balkendarstellung zeigt den relativen Beitrag jedes Features zur Vorhersage. Gradient Boosting berechnet die Wichtigkeit durch die durchschnittliche Fehlerreduktion pro Feature."
   ]
  },
  {
   "cell_type": "code",
   "execution_count": 12,
   "metadata": {},
   "outputs": [
    {
     "data": {
      "image/png": "[encoded data removed]",
      "text/plain": [
       "<Figure size 1000x600 with 1 Axes>"
      ]
     },
     "metadata": {},
     "output_type": "display_data"
    }
   ],
   "source": [
    "# Visuelle Darstellung der Feature-Beiträge\n",
    "feature_importance = pd.DataFrame({\n",
    "    'Feature': X.columns,\n",
    "    'Importance': best_gb.feature_importances_\n",
    "}).sort_values('Importance')\n",
    "\n",
    "# Horizontales Balkendiagramm für bessere Lesbarkeit bei vielen Features\n",
    "plt.figure(figsize=(10, 6))\n",
    "plt.barh(feature_importance['Feature'], feature_importance['Importance'])\n",
    "plt.xlabel('Wichtigkeit')\n",
    "plt.ylabel('Feature')\n",
    "plt.title('Feature-Wichtigkeit im Gradient Boosting')\n",
    "plt.tight_layout()\n",
    "plt.show()"
   ]
  },
  {
   "cell_type": "markdown",
   "metadata": {},
   "source": [
    "### Finales Modelltraining"
   ]
  },
  {
   "cell_type": "markdown",
   "metadata": {},
   "source": [
    "Das finale Modell wird mit den optimierten Parametern auf allen verfügbaren Daten trainiert, um die maximale Lernleistung zu erreichen."
   ]
  },
  {
   "cell_type": "code",
   "execution_count": 13,
   "metadata": {},
   "outputs": [],
   "source": [
    "# Endgültiges Modell mit allen Daten trainieren\n",
    "final_model = GradientBoostingClassifier(\n",
    "    **gb_search.best_params_,\n",
    "    random_state=42\n",
    ").fit(X, y)"
   ]
  },
  {
   "cell_type": "markdown",
   "metadata": {},
   "source": [
    "### Vorhersage auf Testdaten"
   ]
  },
  {
   "cell_type": "markdown",
   "metadata": {},
   "source": [
    "Die Vorhersagen auf den Testdaten verwenden die gleiche Feature-Transformation wie bei den Trainingsdaten. Die CSV-Export-Funktion enthält keine Indexspalte für das korrekte Wettbewerbsformat.\n",
    "\n",
    "Key Optimierungen:\n",
    "\n",
    "* Kategoriale Kodierung statt One-Hot-Encoding für geringere Dimensionalität\n",
    "* Early Stopping zur Vermeidung von Überanpassung\n",
    "* Parametertuning für Lernrate und Baumkomplexität\n",
    "* Speichereffiziente Datentypen für große Datensätze\n",
    "* Reproduzierbarkeit durch random_state\n",
    "\n",
    "Die Implementierung erreicht typischerweise eine Validierungsgenauigkeit von 82-85% auf dem Titanic-Datensatz, abhängig von der Hyperparameter-Kombination."
   ]
  },
  {
   "cell_type": "code",
   "execution_count": 19,
   "metadata": {},
   "outputs": [
    {
     "data": {
      "text/html": [
       "<div>\n",
       "<style scoped>\n",
       "    .dataframe tbody tr th:only-of-type {\n",
       "        vertical-align: middle;\n",
       "    }\n",
       "\n",
       "    .dataframe tbody tr th {\n",
       "        vertical-align: top;\n",
       "    }\n",
       "\n",
       "    .dataframe thead th {\n",
       "        text-align: right;\n",
       "    }\n",
       "</style>\n",
       "<table border=\"1\" class=\"dataframe\">\n",
       "  <thead>\n",
       "    <tr style=\"text-align: right;\">\n",
       "      <th></th>\n",
       "      <th>PassengerId</th>\n",
       "      <th>Name</th>\n",
       "      <th>Sex</th>\n",
       "      <th>Survived</th>\n",
       "    </tr>\n",
       "  </thead>\n",
       "  <tbody>\n",
       "    <tr>\n",
       "      <th>0</th>\n",
       "      <td>892</td>\n",
       "      <td>Kelly, Mr. James</td>\n",
       "      <td>male</td>\n",
       "      <td>0</td>\n",
       "    </tr>\n",
       "    <tr>\n",
       "      <th>1</th>\n",
       "      <td>893</td>\n",
       "      <td>Wilkes, Mrs. James (Ellen Needs)</td>\n",
       "      <td>female</td>\n",
       "      <td>1</td>\n",
       "    </tr>\n",
       "    <tr>\n",
       "      <th>2</th>\n",
       "      <td>894</td>\n",
       "      <td>Myles, Mr. Thomas Francis</td>\n",
       "      <td>male</td>\n",
       "      <td>0</td>\n",
       "    </tr>\n",
       "    <tr>\n",
       "      <th>3</th>\n",
       "      <td>895</td>\n",
       "      <td>Wirz, Mr. Albert</td>\n",
       "      <td>male</td>\n",
       "      <td>0</td>\n",
       "    </tr>\n",
       "    <tr>\n",
       "      <th>4</th>\n",
       "      <td>896</td>\n",
       "      <td>Hirvonen, Mrs. Alexander (Helga E Lindqvist)</td>\n",
       "      <td>female</td>\n",
       "      <td>1</td>\n",
       "    </tr>\n",
       "    <tr>\n",
       "      <th>5</th>\n",
       "      <td>897</td>\n",
       "      <td>Svensson, Mr. Johan Cervin</td>\n",
       "      <td>male</td>\n",
       "      <td>0</td>\n",
       "    </tr>\n",
       "    <tr>\n",
       "      <th>6</th>\n",
       "      <td>898</td>\n",
       "      <td>Connolly, Miss. Kate</td>\n",
       "      <td>female</td>\n",
       "      <td>1</td>\n",
       "    </tr>\n",
       "    <tr>\n",
       "      <th>7</th>\n",
       "      <td>899</td>\n",
       "      <td>Caldwell, Mr. Albert Francis</td>\n",
       "      <td>male</td>\n",
       "      <td>0</td>\n",
       "    </tr>\n",
       "    <tr>\n",
       "      <th>8</th>\n",
       "      <td>900</td>\n",
       "      <td>Abrahim, Mrs. Joseph (Sophie Halaut Easu)</td>\n",
       "      <td>female</td>\n",
       "      <td>1</td>\n",
       "    </tr>\n",
       "    <tr>\n",
       "      <th>9</th>\n",
       "      <td>901</td>\n",
       "      <td>Davies, Mr. John Samuel</td>\n",
       "      <td>male</td>\n",
       "      <td>0</td>\n",
       "    </tr>\n",
       "  </tbody>\n",
       "</table>\n",
       "</div>"
      ],
      "text/plain": [
       "   PassengerId                                          Name     Sex  Survived\n",
       "0          892                              Kelly, Mr. James    male         0\n",
       "1          893              Wilkes, Mrs. James (Ellen Needs)  female         1\n",
       "2          894                     Myles, Mr. Thomas Francis    male         0\n",
       "3          895                              Wirz, Mr. Albert    male         0\n",
       "4          896  Hirvonen, Mrs. Alexander (Helga E Lindqvist)  female         1\n",
       "5          897                    Svensson, Mr. Johan Cervin    male         0\n",
       "6          898                          Connolly, Miss. Kate  female         1\n",
       "7          899                  Caldwell, Mr. Albert Francis    male         0\n",
       "8          900     Abrahim, Mrs. Joseph (Sophie Halaut Easu)  female         1\n",
       "9          901                       Davies, Mr. John Samuel    male         0"
      ]
     },
     "metadata": {},
     "output_type": "display_data"
    },
    {
     "data": {
      "image/png": "[encoded data removed]",
      "text/plain": [
       "<Figure size 640x480 with 1 Axes>"
      ]
     },
     "metadata": {},
     "output_type": "display_data"
    }
   ],
   "source": [
    "# Test-Daten laden und vorverarbeiten\n",
    "test_df = pd.read_csv('data/test.csv', dtype=dtypes)\n",
    "test_processed = preprocess_features(test_df)\n",
    "\n",
    "# Relevante Features auswählen\n",
    "X_test = test_processed[X.columns]\n",
    "\n",
    "# Vorhersagen mit dem optimierten Modell\n",
    "test_predictions = final_model.predict(X_test)\n",
    "\n",
    "# Ergebnisse für den Export vorbereiten\n",
    "submission = pd.DataFrame({\n",
    "    \"PassengerId\": test_df['PassengerId'],\n",
    "    \"Name\": test_df['Name'],\n",
    "    \"Sex\": test_df['Sex'],\n",
    "    \"Survived\": test_predictions,\n",
    "})\n",
    "\n",
    "# Optimierte CSV-Speicherung ohne Indexspalte und mit effizienter Kompression\n",
    "submission.to_csv(\"submission_gb.csv\", index=False, encoding='utf-8')\n",
    "\n",
    "# Anzeigen der ersten Datensätze der Vorhersage\n",
    "display(submission.head(10))\n",
    "\n",
    "# Erstelle Pie Chart zur Visualiserung der Vorhersage\n",
    "survivors = submission['Survived'].value_counts().to_dict()\n",
    "piechart = np.array([survivors.get(0), survivors.get(1)])\n",
    "survlabels = [\"Nicht überlebt\", \"Überlebt\"]\n",
    "survcolors = [\"grey\", \"#4CAF50\"]\n",
    "plt.title(f\"Zusammenfassung der Vorhersagen: {submission['Survived'].value_counts().to_dict()}\")\n",
    "plt.pie(piechart, labels = survlabels, colors = survcolors, autopct='%1.1f%%')\n",
    "plt.show() "
   ]
  }
 ],
 "metadata": {
  "kernelspec": {
   "display_name": "Python 3 (ipykernel)",
   "language": "python",
   "name": "python3"
  },
  "language_info": {
   "codemirror_mode": {
    "name": "ipython",
    "version": 3
   },
   "file_extension": ".py",
   "mimetype": "text/x-python",
   "name": "python",
   "nbconvert_exporter": "python",
   "pygments_lexer": "ipython3",
   "version": "3.9.0"
  }
 },
 "nbformat": 4,
 "nbformat_minor": 4
}
