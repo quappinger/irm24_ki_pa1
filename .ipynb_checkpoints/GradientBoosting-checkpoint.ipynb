{
 "cells": [
  {
   "cell_type": "markdown",
   "metadata": {},
   "source": [
    "# Project Work - IRM24\n",
    "## Jürgen Aumayr & Natalia Trudova"
   ]
  },
  {
   "cell_type": "markdown",
   "metadata": {},
   "source": [
    "## Gradient Boosting"
   ]
  },
  {
   "cell_type": "markdown",
   "metadata": {},
   "source": [
    "This code demonstrates how to create a gradient boosting classifier using scikit-learn's GradientBoostingClassifier class."
   ]
  },
  {
   "cell_type": "code",
   "execution_count": 1,
   "metadata": {},
   "outputs": [
    {
     "data": {
      "text/plain": [
       "GradientBoostingClassifier(random_state=42)"
      ]
     },
     "execution_count": 1,
     "metadata": {},
     "output_type": "execute_result"
    }
   ],
   "source": [
    "# Import libraries\n",
    "from sklearn.ensemble import GradientBoostingClassifier\n",
    "from sklearn.datasets import load_iris\n",
    "from sklearn.model_selection import train_test_split\n",
    "\n",
    "# Load the iris dataset\n",
    "iris = load_iris()\n",
    "X3, y3 = iris.data, iris.target\n",
    "\n",
    "# Split the data into train and test sets\n",
    "X3_train, X3_test, y3_train, y3_test = train_test_split(X3, y3, test_size=0.5, random_state=42)\n",
    "\n",
    "# Create a gradient boosting classifier\n",
    "gb = GradientBoostingClassifier(random_state=42)\n",
    "\n",
    "# Train the classifier\n",
    "gb.fit(X3_train, y3_train)"
   ]
  },
  {
   "cell_type": "markdown",
   "metadata": {},
   "source": [
    "## Evaluating Model"
   ]
  },
  {
   "cell_type": "markdown",
   "metadata": {},
   "source": [
    "Once we have trained our models, it's essential to evaluate their performance on a separate test set. This allows us to assess how well the models generalize to unseen data. Common evaluation metrics include accuracy, precision, recall, and F1-score."
   ]
  },
  {
   "cell_type": "code",
   "execution_count": 2,
   "metadata": {},
   "outputs": [
    {
     "name": "stdout",
     "output_type": "stream",
     "text": [
      "Gradient Boosting:\n",
      "---------------------------------------\n",
      "Accuracy:  0.92\n",
      "Precision: 0.92\n",
      "Recall:    0.92\n",
      "F1-Score:  0.92\n",
      "\n",
      "\n"
     ]
    }
   ],
   "source": [
    "# Import libraries\n",
    "from sklearn.metrics import accuracy_score, precision_score, recall_score, f1_score\n",
    "\n",
    "# Evaluate gradient boosting\n",
    "y_pred_gb = gb.predict(X3_test)\n",
    "accuracy_gb = accuracy_score(y3_test, y_pred_gb)\n",
    "precision_gb = precision_score(y3_test, y_pred_gb, average='weighted')\n",
    "recall_gb = recall_score(y3_test, y_pred_gb, average='weighted')\n",
    "f1_gb = f1_score(y3_test, y_pred_gb, average='weighted')\n",
    "\n",
    "print(\"Gradient Boosting:\")\n",
    "print(\"---------------------------------------\")\n",
    "print(\"Accuracy:  \" + str(accuracy_gb))\n",
    "print(\"Precision: \" + str(precision_gb))\n",
    "print(\"Recall:    \" + str(recall_gb))\n",
    "print(\"F1-Score:  \" + str(f1_gb) + \"\\n\\n\")"
   ]
  },
  {
   "cell_type": "code",
   "execution_count": null,
   "metadata": {},
   "outputs": [],
   "source": []
  }
 ],
 "metadata": {
  "kernelspec": {
   "display_name": "Python 3 (ipykernel)",
   "language": "python",
   "name": "python3"
  },
  "language_info": {
   "codemirror_mode": {
    "name": "ipython",
    "version": 3
   },
   "file_extension": ".py",
   "mimetype": "text/x-python",
   "name": "python",
   "nbconvert_exporter": "python",
   "pygments_lexer": "ipython3",
   "version": "3.9.0"
  }
 },
 "nbformat": 4,
 "nbformat_minor": 4
}
