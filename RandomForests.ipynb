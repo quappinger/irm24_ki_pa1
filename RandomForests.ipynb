{
 "cells": [
  {
   "cell_type": "markdown",
   "metadata": {},
   "source": [
    "# Project Work - IRM24\n",
    "## Jürgen Aumayr & Natalia Trudova"
   ]
  },
  {
   "cell_type": "markdown",
   "metadata": {},
   "source": [
    "## Random Forests"
   ]
  },
  {
   "cell_type": "markdown",
   "metadata": {},
   "source": [
    "This code demonstrates how to create a random forest classifier using scikit-learn's RandomForestClassifier class."
   ]
  },
  {
   "cell_type": "code",
   "execution_count": 4,
   "metadata": {},
   "outputs": [
    {
     "data": {
      "text/plain": [
       "RandomForestClassifier(random_state=42)"
      ]
     },
     "execution_count": 4,
     "metadata": {},
     "output_type": "execute_result"
    }
   ],
   "source": [
    "# Import libraries\n",
    "from sklearn.ensemble import RandomForestClassifier\n",
    "from sklearn.datasets import load_iris\n",
    "from sklearn.model_selection import train_test_split\n",
    "\n",
    "# Load the iris dataset\n",
    "iris = load_iris()\n",
    "X2, y2 = iris.data, iris.target\n",
    "\n",
    "# Split the data into train and test sets\n",
    "X2_train, X2_test, y2_train, y2_test = train_test_split(X2, y2, test_size=0.5, random_state=42)\n",
    "\n",
    "# Create a random forest classifier\n",
    "rf = RandomForestClassifier(n_estimators=100, random_state=42)\n",
    "\n",
    "# Train the classifier\n",
    "rf.fit(X2_train, y2_train)"
   ]
  },
  {
   "cell_type": "markdown",
   "metadata": {},
   "source": [
    "## Evaluating Model"
   ]
  },
  {
   "cell_type": "markdown",
   "metadata": {},
   "source": [
    "Once we have trained our models, it's essential to evaluate their performance on a separate test set. This allows us to assess how well the models generalize to unseen data. Common evaluation metrics include accuracy, precision, recall, and F1-score."
   ]
  },
  {
   "cell_type": "code",
   "execution_count": 5,
   "metadata": {},
   "outputs": [
    {
     "name": "stdout",
     "output_type": "stream",
     "text": [
      "Random Forest:\n",
      "---------------------------------------\n",
      "Accuracy:  0.9866666666666667\n",
      "Precision: 0.9872222222222223\n",
      "Recall:    0.9866666666666667\n",
      "F1-Score:  0.9866603624901497\n",
      "\n",
      "\n"
     ]
    }
   ],
   "source": [
    "# Import libraries\n",
    "from sklearn.metrics import accuracy_score, precision_score, recall_score, f1_score\n",
    "\n",
    "# Evaluate random forest\n",
    "y_pred_rf = rf.predict(X2_test)\n",
    "accuracy_rf = accuracy_score(y2_test, y_pred_rf)\n",
    "precision_rf = precision_score(y2_test, y_pred_rf, average='weighted')\n",
    "recall_rf = recall_score(y2_test, y_pred_rf, average='weighted')\n",
    "f1_rf = f1_score(y2_test, y_pred_rf, average='weighted')\n",
    "\n",
    "\n",
    "print(\"Random Forest:\")\n",
    "print(\"---------------------------------------\")\n",
    "print(\"Accuracy:  \" + str(accuracy_rf))\n",
    "print(\"Precision: \" + str(precision_rf))\n",
    "print(\"Recall:    \" + str(recall_rf))\n",
    "print(\"F1-Score:  \" + str(f1_rf) + \"\\n\\n\")\n"
   ]
  }
 ],
 "metadata": {
  "kernelspec": {
   "display_name": "Python 3 (ipykernel)",
   "language": "python",
   "name": "python3"
  },
  "language_info": {
   "codemirror_mode": {
    "name": "ipython",
    "version": 3
   },
   "file_extension": ".py",
   "mimetype": "text/x-python",
   "name": "python",
   "nbconvert_exporter": "python",
   "pygments_lexer": "ipython3",
   "version": "3.9.0"
  }
 },
 "nbformat": 4,
 "nbformat_minor": 4
}
