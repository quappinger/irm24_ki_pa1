{
 "cells": [
  {
   "cell_type": "markdown",
   "metadata": {},
   "source": [
    "# Project Work - IRM24\n",
    "## Jürgen Aumayr & Natalia Trudova"
   ]
  },
  {
   "cell_type": "markdown",
   "metadata": {},
   "source": [
    "### Decision Trees"
   ]
  },
  {
   "cell_type": "markdown",
   "metadata": {},
   "source": [
    "This code demonstrates how to create a decision tree classifier using scikit-learn's DecisionTreeClassifier class."
   ]
  },
  {
   "cell_type": "code",
   "execution_count": 1,
   "metadata": {},
   "outputs": [
    {
     "data": {
      "text/plain": [
       "DecisionTreeClassifier()"
      ]
     },
     "execution_count": 1,
     "metadata": {},
     "output_type": "execute_result"
    }
   ],
   "source": [
    "# Import libraries\n",
    "from sklearn import tree\n",
    "from sklearn.datasets import load_iris\n",
    "from sklearn.model_selection import train_test_split\n",
    "\n",
    "# Load the iris dataset\n",
    "iris = load_iris()\n",
    "X1, y1 = iris.data, iris.target\n",
    "\n",
    "# Split the data into train and test sets\n",
    "X1_train, X1_test, y1_train, y1_test = train_test_split(X1, y1, test_size=0.5, random_state=42)\n",
    "\n",
    "# Create a decision tree classifier\n",
    "clf = tree.DecisionTreeClassifier()\n",
    "\n",
    "# Train the classifier\n",
    "clf.fit(X1_train, y1_train)"
   ]
  },
  {
   "cell_type": "markdown",
   "metadata": {},
   "source": [
    "## Random Forests"
   ]
  },
  {
   "cell_type": "markdown",
   "metadata": {},
   "source": [
    "This code demonstrates how to create a random forest classifier using scikit-learn's RandomForestClassifier class."
   ]
  },
  {
   "cell_type": "code",
   "execution_count": 2,
   "metadata": {},
   "outputs": [
    {
     "data": {
      "text/plain": [
       "RandomForestClassifier(random_state=42)"
      ]
     },
     "execution_count": 2,
     "metadata": {},
     "output_type": "execute_result"
    }
   ],
   "source": [
    "# Import libraries\n",
    "from sklearn.ensemble import RandomForestClassifier\n",
    "from sklearn.datasets import load_iris\n",
    "from sklearn.model_selection import train_test_split\n",
    "\n",
    "# Load the iris dataset\n",
    "iris = load_iris()\n",
    "X2, y2 = iris.data, iris.target\n",
    "\n",
    "# Split the data into train and test sets\n",
    "X2_train, X2_test, y2_train, y2_test = train_test_split(X2, y2, test_size=0.5, random_state=42)\n",
    "\n",
    "# Create a random forest classifier\n",
    "rf = RandomForestClassifier(n_estimators=100, random_state=42)\n",
    "\n",
    "# Train the classifier\n",
    "rf.fit(X2_train, y2_train)"
   ]
  },
  {
   "cell_type": "code",
   "execution_count": 3,
   "metadata": {},
   "outputs": [],
   "source": [
    "# Import libraries\n",
    "#from sklearn.ensemble import RandomForestClassifier\n",
    "#from sklearn.datasets import make_classification\n",
    "#from sklearn.model_selection import train_test_split\n",
    "\n",
    "# Generate a random dataset\n",
    "#X2, y2 = make_classification(n_samples=1000, n_features=4, n_informative=2, n_redundant=0, random_state=42)\n",
    "\n",
    "# Split the data into train and test sets\n",
    "#X2_train, X2_test, y2_train, y2_test = train_test_split(X2, y, test_size=0.2, random_state=42)\n",
    "\n",
    "# Create a random forest classifier\n",
    "#rf = RandomForestClassifier(n_estimators=100, random_state=42)\n",
    "\n",
    "# Train the classifier\n",
    "#rf.fit(X_train, y_train)"
   ]
  },
  {
   "cell_type": "markdown",
   "metadata": {},
   "source": [
    "## Gradient Boosting"
   ]
  },
  {
   "cell_type": "markdown",
   "metadata": {},
   "source": [
    "This code demonstrates how to create a gradient boosting classifier using scikit-learn's GradientBoostingClassifier class."
   ]
  },
  {
   "cell_type": "code",
   "execution_count": 4,
   "metadata": {},
   "outputs": [
    {
     "data": {
      "text/plain": [
       "GradientBoostingClassifier(random_state=42)"
      ]
     },
     "execution_count": 4,
     "metadata": {},
     "output_type": "execute_result"
    }
   ],
   "source": [
    "# Import libraries\n",
    "from sklearn.ensemble import GradientBoostingClassifier\n",
    "from sklearn.datasets import load_iris\n",
    "from sklearn.model_selection import train_test_split\n",
    "\n",
    "# Load the iris dataset\n",
    "iris = load_iris()\n",
    "X3, y3 = iris.data, iris.target\n",
    "\n",
    "# Split the data into train and test sets\n",
    "X3_train, X3_test, y3_train, y3_test = train_test_split(X3, y3, test_size=0.5, random_state=42)\n",
    "\n",
    "# Create a gradient boosting classifier\n",
    "gb = GradientBoostingClassifier(random_state=42)\n",
    "\n",
    "# Train the classifier\n",
    "gb.fit(X3_train, y3_train)"
   ]
  },
  {
   "cell_type": "code",
   "execution_count": 5,
   "metadata": {},
   "outputs": [],
   "source": [
    "# Import libraries\n",
    "#from sklearn.ensemble import GradientBoostingClassifier\n",
    "#from sklearn.datasets import make_hastie_10_2\n",
    "#from sklearn.model_selection import train_test_split\n",
    "\n",
    "# Generate a synthetic dataset\n",
    "#X3, y3 = make_hastie_10_2(random_state=42)\n",
    "\n",
    "# Split the data into train and test sets\n",
    "#X3_train, X3_test, y3_train, y3_test = train_test_split(X3, y3, test_size=0.2, random_state=42)\n",
    "\n",
    "# Create a gradient boosting classifier\n",
    "#gb = GradientBoostingClassifier(random_state=42)\n",
    "\n",
    "# Train the classifier\n",
    "#gb.fit(X3_train, y3_train)"
   ]
  },
  {
   "cell_type": "markdown",
   "metadata": {},
   "source": [
    "## Evaluating Models"
   ]
  },
  {
   "cell_type": "markdown",
   "metadata": {},
   "source": [
    "Once we have trained our models, it's essential to evaluate their performance on a separate test set. This allows us to assess how well the models generalize to unseen data. Common evaluation metrics include accuracy, precision, recall, and F1-score."
   ]
  },
  {
   "cell_type": "code",
   "execution_count": 6,
   "metadata": {},
   "outputs": [
    {
     "name": "stdout",
     "output_type": "stream",
     "text": [
      "Decision Tree:\n",
      "---------------------------------------\n",
      "Accuracy:  0.9066666666666666\n",
      "Precision: 0.907070707070707\n",
      "Recall:    0.9066666666666666\n",
      "F1-Score:  0.906622537431048\n",
      "\n",
      "\n",
      "Random Forest:\n",
      "---------------------------------------\n",
      "Accuracy:  0.9866666666666667\n",
      "Precision: 0.9872222222222223\n",
      "Recall:    0.9866666666666667\n",
      "F1-Score:  0.9866603624901497\n",
      "\n",
      "\n",
      "Gradient Boosting:\n",
      "---------------------------------------\n",
      "Accuracy:  0.92\n",
      "Precision: 0.92\n",
      "Recall:    0.92\n",
      "F1-Score:  0.92\n",
      "\n",
      "\n"
     ]
    }
   ],
   "source": [
    "# Import libraries\n",
    "from sklearn.metrics import accuracy_score, precision_score, recall_score, f1_score\n",
    "\n",
    "# Evaluate decision tree\n",
    "y_pred_dt = clf.predict(X1_test)\n",
    "accuracy_dt = accuracy_score(y1_test, y_pred_dt)\n",
    "precision_dt = precision_score(y1_test, y_pred_dt, average='weighted')\n",
    "recall_dt = recall_score(y1_test, y_pred_dt, average='weighted')\n",
    "f1_dt = f1_score(y1_test, y_pred_dt, average='weighted')\n",
    "\n",
    "# Evaluate random forest\n",
    "y_pred_rf = rf.predict(X2_test)\n",
    "accuracy_rf = accuracy_score(y2_test, y_pred_rf)\n",
    "precision_rf = precision_score(y2_test, y_pred_rf, average='weighted')\n",
    "recall_rf = recall_score(y2_test, y_pred_rf, average='weighted')\n",
    "f1_rf = f1_score(y2_test, y_pred_rf, average='weighted')\n",
    "\n",
    "# Evaluate gradient boosting\n",
    "y_pred_gb = gb.predict(X3_test)\n",
    "accuracy_gb = accuracy_score(y3_test, y_pred_gb)\n",
    "precision_gb = precision_score(y3_test, y_pred_gb, average='weighted')\n",
    "recall_gb = recall_score(y3_test, y_pred_gb, average='weighted')\n",
    "f1_gb = f1_score(y3_test, y_pred_gb, average='weighted')\n",
    "\n",
    "print(\"Decision Tree:\")\n",
    "print(\"---------------------------------------\")\n",
    "print(\"Accuracy:  \" + str(accuracy_dt))\n",
    "print(\"Precision: \" + str(precision_dt))\n",
    "print(\"Recall:    \" + str(recall_dt))\n",
    "print(\"F1-Score:  \" + str(f1_dt) + \"\\n\\n\")\n",
    "print(\"Random Forest:\")\n",
    "print(\"---------------------------------------\")\n",
    "print(\"Accuracy:  \" + str(accuracy_rf))\n",
    "print(\"Precision: \" + str(precision_rf))\n",
    "print(\"Recall:    \" + str(recall_rf))\n",
    "print(\"F1-Score:  \" + str(f1_rf) + \"\\n\\n\")\n",
    "print(\"Gradient Boosting:\")\n",
    "print(\"---------------------------------------\")\n",
    "print(\"Accuracy:  \" + str(accuracy_gb))\n",
    "print(\"Precision: \" + str(precision_gb))\n",
    "print(\"Recall:    \" + str(recall_gb))\n",
    "print(\"F1-Score:  \" + str(f1_gb) + \"\\n\\n\")"
   ]
  },
  {
   "cell_type": "code",
   "execution_count": 7,
   "metadata": {},
   "outputs": [
    {
     "data": {
      "text/plain": [
       "'iris_tree.pdf'"
      ]
     },
     "execution_count": 7,
     "metadata": {},
     "output_type": "execute_result"
    }
   ],
   "source": [
    "# Import libraries\n",
    "from sklearn import tree\n",
    "import graphviz, os\n",
    "os.environ[\"PATH\"] += os.pathsep + 'C:/Program Files/Graphviz/bin'\n",
    "\n",
    "# Visualize the decision tree\n",
    "dot_data = tree.export_graphviz(clf, out_file=None, feature_names=iris.feature_names, class_names=iris.target_names, filled=True, rounded=True, special_characters=True)\n",
    "graph = graphviz.Source(dot_data)\n",
    "graph.render(\"iris_tree\")"
   ]
  },
  {
   "cell_type": "code",
   "execution_count": 8,
   "metadata": {},
   "outputs": [
    {
     "name": "stdout",
     "output_type": "stream",
     "text": [
      "Decision Tree Accuracy: 0.95\n",
      "Random Forest Accuracy: 0.95\n",
      "Gradient Boosting Accuracy: 0.95\n"
     ]
    }
   ],
   "source": [
    "# Import libraries\n",
    "from sklearn.datasets import make_circles\n",
    "from sklearn.model_selection import train_test_split\n",
    "from sklearn.tree import DecisionTreeClassifier\n",
    "from sklearn.ensemble import RandomForestClassifier, GradientBoostingClassifier\n",
    "from sklearn.metrics import accuracy_score\n",
    "\n",
    "# Generate a synthetic dataset\n",
    "X, y = make_circles(n_samples=100, noise=0.2, factor=0.2, random_state=42)\n",
    "\n",
    "# Split the data into train and test sets\n",
    "X_train, X_test, y_train, y_test = train_test_split(X, y, test_size=0.2, random_state=42)\n",
    "\n",
    "# Create and train the models\n",
    "dt = DecisionTreeClassifier(random_state=42)\n",
    "rf = RandomForestClassifier(n_estimators=100, random_state=42)\n",
    "gb = GradientBoostingClassifier(random_state=42)\n",
    "\n",
    "dt.fit(X_train, y_train)\n",
    "rf.fit(X_train, y_train)\n",
    "gb.fit(X_train, y_train)\n",
    "\n",
    "# Make predictions and evaluate the models\n",
    "y_pred_dt = dt.predict(X_test)\n",
    "y_pred_rf = rf.predict(X_test)\n",
    "y_pred_gb = gb.predict(X_test)\n",
    "\n",
    "accuracy_dt = accuracy_score(y_test, y_pred_dt)\n",
    "accuracy_rf = accuracy_score(y_test, y_pred_rf)\n",
    "accuracy_gb = accuracy_score(y_test, y_pred_gb)\n",
    "\n",
    "print(f'Decision Tree Accuracy: {accuracy_dt:.2f}')\n",
    "print(f'Random Forest Accuracy: {accuracy_rf:.2f}')\n",
    "print(f'Gradient Boosting Accuracy: {accuracy_gb:.2f}')"
   ]
  },
  {
   "cell_type": "code",
   "execution_count": null,
   "metadata": {},
   "outputs": [],
   "source": []
  }
 ],
 "metadata": {
  "kernelspec": {
   "display_name": "Python 3 (ipykernel)",
   "language": "python",
   "name": "python3"
  },
  "language_info": {
   "codemirror_mode": {
    "name": "ipython",
    "version": 3
   },
   "file_extension": ".py",
   "mimetype": "text/x-python",
   "name": "python",
   "nbconvert_exporter": "python",
   "pygments_lexer": "ipython3",
   "version": "3.9.0"
  }
 },
 "nbformat": 4,
 "nbformat_minor": 4
}
